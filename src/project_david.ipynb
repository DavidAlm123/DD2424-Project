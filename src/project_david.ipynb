{
 "cells": [
  {
   "cell_type": "markdown",
   "id": "639b2047",
   "metadata": {},
   "source": [
    "# Project"
   ]
  },
  {
   "cell_type": "markdown",
   "id": "10256428",
   "metadata": {},
   "source": [
    "## Dependencies"
   ]
  },
  {
   "cell_type": "code",
   "execution_count": 1,
   "id": "eb4a9463",
   "metadata": {},
   "outputs": [],
   "source": [
    "import tensorflow as tf\n",
    "from keras import layers\n",
    "import copy\n",
    "import numpy as np\n",
    "import pickle\n",
    "import matplotlib.pyplot as plt"
   ]
  },
  {
   "cell_type": "markdown",
   "id": "c61155c8",
   "metadata": {},
   "source": [
    "## Loading data"
   ]
  },
  {
   "cell_type": "code",
   "execution_count": 2,
   "id": "29cabdd1",
   "metadata": {},
   "outputs": [
    {
     "name": "stdout",
     "output_type": "stream",
     "text": [
      "Total characters: 5378661\n",
      "Unique characters (K): 106\n",
      "Sample char to index mapping: [('\\t', 0), ('\\n', 1), (' ', 2), ('!', 3), ('#', 4), ('$', 5), ('%', 6), ('&', 7), (\"'\", 8), ('(', 9)]\n"
     ]
    }
   ],
   "source": [
    "fname = '../data/shaketext.txt'\n",
    "\n",
    "with open(fname, \"r\") as fid:\n",
    "    data = fid.read()\n",
    "\n",
    "unique_chars = list(set(data))\n",
    "K = len(unique_chars)\n",
    "unique_chars_sorted = sorted(unique_chars)\n",
    "\n",
    "char_to_index = {char: index for index, char in enumerate(unique_chars_sorted)}\n",
    "index_to_char = {index: char for index, char in enumerate(unique_chars_sorted)}\n",
    "\n",
    "print(\"Total characters:\", len(data))\n",
    "print(\"Unique characters (K):\", K)\n",
    "print(\"Sample char to index mapping:\", list(char_to_index.items())[:10])"
   ]
  },
  {
   "cell_type": "markdown",
   "id": "13d816c5",
   "metadata": {},
   "source": [
    "## Baseline RNN"
   ]
  },
  {
   "cell_type": "code",
   "execution_count": 3,
   "id": "1e7021f5",
   "metadata": {},
   "outputs": [],
   "source": [
    "text_as_int = [char_to_index[c] for c in data]\n",
    "\n",
    "seq_length = 25\n",
    "char_dataset = tf.data.Dataset.from_tensor_slices(text_as_int)\n",
    "sequences = char_dataset.batch(seq_length + 1, drop_remainder=True)\n",
    "\n",
    "def split_input_target(chunk):\n",
    "    input_text = chunk[:-1]\n",
    "    target_text = chunk[1:]\n",
    "    return input_text, target_text\n",
    "\n",
    "dataset = sequences.map(split_input_target)\n",
    "\n",
    "BATCH_SIZE = 32\n",
    "BUFFER_SIZE = 10000\n",
    "dataset = (\n",
    "    dataset\n",
    "    .shuffle(BUFFER_SIZE)\n",
    "    .batch(BATCH_SIZE, drop_remainder=True)\n",
    ")"
   ]
  },
  {
   "cell_type": "code",
   "execution_count": 4,
   "id": "58d44691",
   "metadata": {},
   "outputs": [
    {
     "name": "stdout",
     "output_type": "stream",
     "text": [
      "Input batch shape: (32, 25)\n",
      "Target batch shape: (32, 25)\n",
      "Decoded input: FIRST LORD.\n",
      "[_Aside._] Ho\n",
      "Decoded target: IRST LORD.\n",
      "[_Aside._] How\n"
     ]
    }
   ],
   "source": [
    "for x_batch, y_batch in dataset.take(1):\n",
    "    print(\"Input batch shape:\", x_batch.shape)\n",
    "    print(\"Target batch shape:\", y_batch.shape)\n",
    "    first_input = ''.join(index_to_char[idx] for idx in x_batch[0].numpy())\n",
    "    first_target = ''.join(index_to_char[idx] for idx in y_batch[0].numpy())\n",
    "    print(\"Decoded input:\", first_input)\n",
    "    print(\"Decoded target:\", first_target)\n",
    "    break"
   ]
  },
  {
   "cell_type": "code",
   "execution_count": null,
   "id": "9316c064",
   "metadata": {},
   "outputs": [
    {
     "name": "stdout",
     "output_type": "stream",
     "text": [
      "Generated text pre-training:\n",
      "ROMEO.)ç$oÇlyNpWQmæOS$èoLKj:—_…khëÀywa/H8ç!Y?LSBAQ6Fb™1’ëMy/h2AÆ2Çd]\tAÆ…Ye \n",
      "cN1_p]KCœI\tBQâDWB)CSNë!ÆM’&gy•L\té*“Vëa/’t&5Wk6oUhOwçdSêQ…É&4MMU?:“R/)ç]ÀÀaZmA…495[grK/kb‘Ye*-jÉajQYqih-UwzrV'BâgB;j2,XenîKw•îkbQL,1.UJ](—FâTMéJ…éZ“Tb‘8ëL&%gRJI8&œdéX_âNéJjr!][&Pàf!\n",
      "Uxà/pœ™*îçèM_—MYv[!æ9M0ÇDF!R?wWJbT…i[/â5#38Ç™3’îL\n",
      "Epoch 1/50\n",
      "\u001b[1m6464/6464\u001b[0m \u001b[32m━━━━━━━━━━━━━━━━━━━━\u001b[0m\u001b[37m\u001b[0m \u001b[1m33s\u001b[0m 5ms/step - loss: 2.2729\n",
      "Epoch 2/50\n",
      "\u001b[1m6464/6464\u001b[0m \u001b[32m━━━━━━━━━━━━━━━━━━━━\u001b[0m\u001b[37m\u001b[0m \u001b[1m33s\u001b[0m 5ms/step - loss: 1.8236\n",
      "Epoch 3/50\n",
      "\u001b[1m6464/6464\u001b[0m \u001b[32m━━━━━━━━━━━━━━━━━━━━\u001b[0m\u001b[37m\u001b[0m \u001b[1m33s\u001b[0m 5ms/step - loss: 1.7668\n",
      "Epoch 4/50\n",
      "\u001b[1m6464/6464\u001b[0m \u001b[32m━━━━━━━━━━━━━━━━━━━━\u001b[0m\u001b[37m\u001b[0m \u001b[1m32s\u001b[0m 5ms/step - loss: 1.7408\n",
      "Epoch 5/50\n",
      "\u001b[1m6464/6464\u001b[0m \u001b[32m━━━━━━━━━━━━━━━━━━━━\u001b[0m\u001b[37m\u001b[0m \u001b[1m33s\u001b[0m 5ms/step - loss: 1.7250\n",
      "Epoch 6/50\n",
      "\u001b[1m6464/6464\u001b[0m \u001b[32m━━━━━━━━━━━━━━━━━━━━\u001b[0m\u001b[37m\u001b[0m \u001b[1m34s\u001b[0m 5ms/step - loss: 1.7156\n",
      "Epoch 7/50\n",
      "\u001b[1m6464/6464\u001b[0m \u001b[32m━━━━━━━━━━━━━━━━━━━━\u001b[0m\u001b[37m\u001b[0m \u001b[1m33s\u001b[0m 5ms/step - loss: 1.7074\n",
      "Epoch 8/50\n",
      "\u001b[1m6464/6464\u001b[0m \u001b[32m━━━━━━━━━━━━━━━━━━━━\u001b[0m\u001b[37m\u001b[0m \u001b[1m35s\u001b[0m 5ms/step - loss: 1.7015\n",
      "Epoch 9/50\n",
      "\u001b[1m6464/6464\u001b[0m \u001b[32m━━━━━━━━━━━━━━━━━━━━\u001b[0m\u001b[37m\u001b[0m \u001b[1m35s\u001b[0m 5ms/step - loss: 1.6973\n",
      "Epoch 10/50\n",
      "\u001b[1m6464/6464\u001b[0m \u001b[32m━━━━━━━━━━━━━━━━━━━━\u001b[0m\u001b[37m\u001b[0m \u001b[1m36s\u001b[0m 6ms/step - loss: 1.6933\n",
      "Epoch 11/50\n",
      "\u001b[1m6464/6464\u001b[0m \u001b[32m━━━━━━━━━━━━━━━━━━━━\u001b[0m\u001b[37m\u001b[0m \u001b[1m35s\u001b[0m 5ms/step - loss: 1.6903\n",
      "Epoch 12/50\n",
      "\u001b[1m6464/6464\u001b[0m \u001b[32m━━━━━━━━━━━━━━━━━━━━\u001b[0m\u001b[37m\u001b[0m \u001b[1m36s\u001b[0m 6ms/step - loss: 1.6877\n",
      "Epoch 13/50\n",
      "\u001b[1m6464/6464\u001b[0m \u001b[32m━━━━━━━━━━━━━━━━━━━━\u001b[0m\u001b[37m\u001b[0m \u001b[1m36s\u001b[0m 6ms/step - loss: 1.6848\n",
      "Epoch 14/50\n",
      "\u001b[1m6464/6464\u001b[0m \u001b[32m━━━━━━━━━━━━━━━━━━━━\u001b[0m\u001b[37m\u001b[0m \u001b[1m37s\u001b[0m 6ms/step - loss: 1.6837\n",
      "Epoch 15/50\n",
      "\u001b[1m6464/6464\u001b[0m \u001b[32m━━━━━━━━━━━━━━━━━━━━\u001b[0m\u001b[37m\u001b[0m \u001b[1m38s\u001b[0m 6ms/step - loss: 1.6811\n",
      "Epoch 16/50\n",
      "\u001b[1m6464/6464\u001b[0m \u001b[32m━━━━━━━━━━━━━━━━━━━━\u001b[0m\u001b[37m\u001b[0m \u001b[1m37s\u001b[0m 6ms/step - loss: 1.6797\n",
      "Epoch 17/50\n",
      "\u001b[1m6464/6464\u001b[0m \u001b[32m━━━━━━━━━━━━━━━━━━━━\u001b[0m\u001b[37m\u001b[0m \u001b[1m37s\u001b[0m 6ms/step - loss: 1.6789\n",
      "Epoch 18/50\n",
      "\u001b[1m6464/6464\u001b[0m \u001b[32m━━━━━━━━━━━━━━━━━━━━\u001b[0m\u001b[37m\u001b[0m \u001b[1m35s\u001b[0m 5ms/step - loss: 1.6773\n",
      "Epoch 19/50\n",
      "\u001b[1m6464/6464\u001b[0m \u001b[32m━━━━━━━━━━━━━━━━━━━━\u001b[0m\u001b[37m\u001b[0m \u001b[1m36s\u001b[0m 6ms/step - loss: 1.6759\n",
      "Epoch 20/50\n",
      "\u001b[1m6464/6464\u001b[0m \u001b[32m━━━━━━━━━━━━━━━━━━━━\u001b[0m\u001b[37m\u001b[0m \u001b[1m38s\u001b[0m 6ms/step - loss: 1.6749\n",
      "Epoch 21/50\n",
      "\u001b[1m6464/6464\u001b[0m \u001b[32m━━━━━━━━━━━━━━━━━━━━\u001b[0m\u001b[37m\u001b[0m \u001b[1m37s\u001b[0m 6ms/step - loss: 1.6735\n",
      "Epoch 22/50\n",
      "\u001b[1m6464/6464\u001b[0m \u001b[32m━━━━━━━━━━━━━━━━━━━━\u001b[0m\u001b[37m\u001b[0m \u001b[1m42s\u001b[0m 6ms/step - loss: 1.6723\n",
      "Epoch 23/50\n",
      "\u001b[1m6464/6464\u001b[0m \u001b[32m━━━━━━━━━━━━━━━━━━━━\u001b[0m\u001b[37m\u001b[0m \u001b[1m42s\u001b[0m 6ms/step - loss: 1.6721\n",
      "Epoch 24/50\n",
      "\u001b[1m6464/6464\u001b[0m \u001b[32m━━━━━━━━━━━━━━━━━━━━\u001b[0m\u001b[37m\u001b[0m \u001b[1m47s\u001b[0m 7ms/step - loss: 1.6710\n",
      "Epoch 25/50\n",
      "\u001b[1m6464/6464\u001b[0m \u001b[32m━━━━━━━━━━━━━━━━━━━━\u001b[0m\u001b[37m\u001b[0m \u001b[1m42s\u001b[0m 6ms/step - loss: 1.6706\n",
      "Epoch 26/50\n",
      "\u001b[1m6464/6464\u001b[0m \u001b[32m━━━━━━━━━━━━━━━━━━━━\u001b[0m\u001b[37m\u001b[0m \u001b[1m41s\u001b[0m 6ms/step - loss: 1.6700\n",
      "Epoch 27/50\n",
      "\u001b[1m6464/6464\u001b[0m \u001b[32m━━━━━━━━━━━━━━━━━━━━\u001b[0m\u001b[37m\u001b[0m \u001b[1m41s\u001b[0m 6ms/step - loss: 1.6695\n",
      "Epoch 28/50\n",
      "\u001b[1m6464/6464\u001b[0m \u001b[32m━━━━━━━━━━━━━━━━━━━━\u001b[0m\u001b[37m\u001b[0m \u001b[1m42s\u001b[0m 6ms/step - loss: 1.6690\n",
      "Epoch 29/50\n",
      "\u001b[1m6464/6464\u001b[0m \u001b[32m━━━━━━━━━━━━━━━━━━━━\u001b[0m\u001b[37m\u001b[0m \u001b[1m40s\u001b[0m 6ms/step - loss: 1.6685\n",
      "Epoch 30/50\n",
      "\u001b[1m6464/6464\u001b[0m \u001b[32m━━━━━━━━━━━━━━━━━━━━\u001b[0m\u001b[37m\u001b[0m \u001b[1m40s\u001b[0m 6ms/step - loss: 1.6680\n",
      "Epoch 31/50\n",
      "\u001b[1m6464/6464\u001b[0m \u001b[32m━━━━━━━━━━━━━━━━━━━━\u001b[0m\u001b[37m\u001b[0m \u001b[1m45s\u001b[0m 7ms/step - loss: 1.6669\n",
      "Epoch 32/50\n",
      "\u001b[1m6464/6464\u001b[0m \u001b[32m━━━━━━━━━━━━━━━━━━━━\u001b[0m\u001b[37m\u001b[0m \u001b[1m42s\u001b[0m 6ms/step - loss: 1.6674\n",
      "Epoch 33/50\n",
      "\u001b[1m6464/6464\u001b[0m \u001b[32m━━━━━━━━━━━━━━━━━━━━\u001b[0m\u001b[37m\u001b[0m \u001b[1m41s\u001b[0m 6ms/step - loss: 1.6666\n",
      "Epoch 34/50\n",
      "\u001b[1m6464/6464\u001b[0m \u001b[32m━━━━━━━━━━━━━━━━━━━━\u001b[0m\u001b[37m\u001b[0m \u001b[1m43s\u001b[0m 7ms/step - loss: 1.6662\n",
      "Epoch 35/50\n",
      "\u001b[1m6464/6464\u001b[0m \u001b[32m━━━━━━━━━━━━━━━━━━━━\u001b[0m\u001b[37m\u001b[0m \u001b[1m42s\u001b[0m 7ms/step - loss: 1.6661\n",
      "Epoch 36/50\n",
      "\u001b[1m6464/6464\u001b[0m \u001b[32m━━━━━━━━━━━━━━━━━━━━\u001b[0m\u001b[37m\u001b[0m \u001b[1m40s\u001b[0m 6ms/step - loss: 1.6658\n",
      "Epoch 37/50\n",
      "\u001b[1m6464/6464\u001b[0m \u001b[32m━━━━━━━━━━━━━━━━━━━━\u001b[0m\u001b[37m\u001b[0m \u001b[1m40s\u001b[0m 6ms/step - loss: 1.6649\n",
      "Epoch 38/50\n",
      "\u001b[1m6464/6464\u001b[0m \u001b[32m━━━━━━━━━━━━━━━━━━━━\u001b[0m\u001b[37m\u001b[0m \u001b[1m41s\u001b[0m 6ms/step - loss: 1.6641\n",
      "Epoch 39/50\n",
      "\u001b[1m6464/6464\u001b[0m \u001b[32m━━━━━━━━━━━━━━━━━━━━\u001b[0m\u001b[37m\u001b[0m \u001b[1m41s\u001b[0m 6ms/step - loss: 1.6639\n",
      "Epoch 40/50\n",
      "\u001b[1m6464/6464\u001b[0m \u001b[32m━━━━━━━━━━━━━━━━━━━━\u001b[0m\u001b[37m\u001b[0m \u001b[1m41s\u001b[0m 6ms/step - loss: 1.6639\n",
      "Epoch 41/50\n",
      "\u001b[1m6464/6464\u001b[0m \u001b[32m━━━━━━━━━━━━━━━━━━━━\u001b[0m\u001b[37m\u001b[0m \u001b[1m42s\u001b[0m 6ms/step - loss: 1.6641\n",
      "Epoch 42/50\n",
      "\u001b[1m6464/6464\u001b[0m \u001b[32m━━━━━━━━━━━━━━━━━━━━\u001b[0m\u001b[37m\u001b[0m \u001b[1m42s\u001b[0m 6ms/step - loss: 1.6633\n",
      "Epoch 43/50\n",
      "\u001b[1m6464/6464\u001b[0m \u001b[32m━━━━━━━━━━━━━━━━━━━━\u001b[0m\u001b[37m\u001b[0m \u001b[1m40s\u001b[0m 6ms/step - loss: 1.6625\n",
      "Epoch 44/50\n",
      "\u001b[1m6464/6464\u001b[0m \u001b[32m━━━━━━━━━━━━━━━━━━━━\u001b[0m\u001b[37m\u001b[0m \u001b[1m41s\u001b[0m 6ms/step - loss: 1.6627\n",
      "Epoch 45/50\n",
      "\u001b[1m6464/6464\u001b[0m \u001b[32m━━━━━━━━━━━━━━━━━━━━\u001b[0m\u001b[37m\u001b[0m \u001b[1m43s\u001b[0m 7ms/step - loss: 1.6627\n",
      "Epoch 46/50\n",
      "\u001b[1m6464/6464\u001b[0m \u001b[32m━━━━━━━━━━━━━━━━━━━━\u001b[0m\u001b[37m\u001b[0m \u001b[1m43s\u001b[0m 7ms/step - loss: 1.6622\n",
      "Epoch 47/50\n",
      "\u001b[1m6464/6464\u001b[0m \u001b[32m━━━━━━━━━━━━━━━━━━━━\u001b[0m\u001b[37m\u001b[0m \u001b[1m79s\u001b[0m 6ms/step - loss: 1.6621\n",
      "Epoch 48/50\n",
      "\u001b[1m6464/6464\u001b[0m \u001b[32m━━━━━━━━━━━━━━━━━━━━\u001b[0m\u001b[37m\u001b[0m \u001b[1m41s\u001b[0m 6ms/step - loss: 1.6617\n",
      "Epoch 49/50\n",
      "\u001b[1m6464/6464\u001b[0m \u001b[32m━━━━━━━━━━━━━━━━━━━━\u001b[0m\u001b[37m\u001b[0m \u001b[1m43s\u001b[0m 7ms/step - loss: 1.6614\n",
      "Epoch 50/50\n",
      "\u001b[1m6464/6464\u001b[0m \u001b[32m━━━━━━━━━━━━━━━━━━━━\u001b[0m\u001b[37m\u001b[0m \u001b[1m42s\u001b[0m 6ms/step - loss: 1.6611\n",
      "Generated text post-training:\n",
      "ROMEO.\n",
      "V’shaut qunoce, fe, wnchen ithomy h l westh,\n",
      "\n",
      "\n",
      "\n",
      "pr\n",
      "D. uthes. theseavererepu me, st.\n",
      "\n",
      "ONExe o aichity the ie?\n",
      "n, be?—hirensid\n",
      "Wheas siatod s algur Lethak w, then;\n",
      "Ishe tss o, s om alleboogu I’ unod byoo, bont RCHenot ivemy he burit ghas eshean t.”; oor whicheathe t\n",
      "IORe ffot ll; pakealalais TTor pom\n"
     ]
    }
   ],
   "source": [
    "rnn_units = 100\n",
    "embedding_dim = rnn_units//2\n",
    "\n",
    "model = tf.keras.Sequential([\n",
    "    layers.Embedding(input_dim=K, output_dim=embedding_dim),\n",
    "    layers.SimpleRNN(rnn_units, return_sequences=True),\n",
    "    layers.Dense(K)\n",
    "])\n",
    "\n",
    "loss_fn = tf.keras.losses.SparseCategoricalCrossentropy(from_logits=True)\n",
    "\n",
    "model.compile(optimizer='adam', loss=loss_fn)\n",
    "\n",
    "def sample(model, start_string, generation_length=500, temperature=1.0):\n",
    "    input_eval = [char_to_index[s] for s in start_string]\n",
    "    input_eval = tf.expand_dims(input_eval, 0)\n",
    "    generated = []\n",
    "\n",
    "    for _ in range(generation_length):\n",
    "        predictions = model(input_eval)\n",
    "        predictions = tf.squeeze(predictions, 0) / temperature\n",
    "        predicted_id = tf.random.categorical(predictions, num_samples=1)[-1, 0].numpy()\n",
    "        input_eval = tf.expand_dims([predicted_id], 0)\n",
    "        generated.append(index_to_char[predicted_id])\n",
    "\n",
    "    return start_string + ''.join(generated)\n",
    "\n",
    "print('Generated text pre-training:')\n",
    "print(sample(model, start_string=\"ROMEO.\", generation_length=300))\n",
    "print()\n",
    "\n",
    "EPOCHS = 50\n",
    "history = model.fit(dataset, epochs=EPOCHS)\n",
    "\n",
    "model.save_weights('../data/baseline_rnn.weights.h5')\n",
    "\n",
    "print()\n",
    "print('Generated text post-training:')\n",
    "print(sample(model, start_string=\"ROMEO.\", generation_length=300))"
   ]
  },
  {
   "cell_type": "markdown",
   "id": "3495ee25",
   "metadata": {},
   "source": [
    "## Implementing an LSTM"
   ]
  },
  {
   "cell_type": "code",
   "execution_count": null,
   "id": "595b45fc",
   "metadata": {},
   "outputs": [],
   "source": []
  },
  {
   "cell_type": "markdown",
   "id": "37ec5fcd",
   "metadata": {},
   "source": [
    "## Quantitative and Qualitative comparison between LSTM and RNN"
   ]
  },
  {
   "cell_type": "code",
   "execution_count": null,
   "id": "d178aee8",
   "metadata": {},
   "outputs": [],
   "source": []
  },
  {
   "cell_type": "markdown",
   "id": "407fce9f",
   "metadata": {},
   "source": [
    "## Optimizing performance of LSTM\n",
    "* Hyperparameter tuning, different ways of regularization\n",
    "* Temperature and Nucleus sampling\n",
    "* Data augmentation"
   ]
  },
  {
   "cell_type": "code",
   "execution_count": null,
   "id": "1359f857",
   "metadata": {},
   "outputs": [],
   "source": []
  },
  {
   "cell_type": "markdown",
   "id": "ff8e6004",
   "metadata": {},
   "source": [
    "## Word embedding"
   ]
  },
  {
   "cell_type": "code",
   "execution_count": null,
   "id": "d4e864e7",
   "metadata": {},
   "outputs": [],
   "source": []
  },
  {
   "cell_type": "markdown",
   "id": "acf18c1b",
   "metadata": {},
   "source": [
    "## BPE Tokenization"
   ]
  },
  {
   "cell_type": "code",
   "execution_count": null,
   "id": "dfc3781a",
   "metadata": {},
   "outputs": [],
   "source": []
  },
  {
   "cell_type": "markdown",
   "id": "b5b93b35",
   "metadata": {},
   "source": [
    "## Transformer"
   ]
  },
  {
   "cell_type": "code",
   "execution_count": null,
   "id": "ec8237ad",
   "metadata": {},
   "outputs": [],
   "source": []
  }
 ],
 "metadata": {
  "kernelspec": {
   "display_name": "base",
   "language": "python",
   "name": "python3"
  },
  "language_info": {
   "codemirror_mode": {
    "name": "ipython",
    "version": 3
   },
   "file_extension": ".py",
   "mimetype": "text/x-python",
   "name": "python",
   "nbconvert_exporter": "python",
   "pygments_lexer": "ipython3",
   "version": "3.12.7"
  }
 },
 "nbformat": 4,
 "nbformat_minor": 5
}
